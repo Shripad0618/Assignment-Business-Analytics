{
 "cells": [
  {
   "cell_type": "code",
   "execution_count": 1,
   "metadata": {},
   "outputs": [
    {
     "name": "stdout",
     "output_type": "stream",
     "text": [
      "Enter the series for nth fibonacci number: 9\n",
      "The fibonacci series of 9 series is [0, 1, 1, 2, 3, 5, 8, 13, 21, 34, 55]\n"
     ]
    }
   ],
   "source": [
    "# 1.\tPython Program for n-th Fibonacci number\n",
    "x = int(input(\"Enter the series for nth fibonacci number: \"))\n",
    "F=[0,1]\n",
    "for i in range(x):\n",
    "    P=F[-1]+F[-2]\n",
    "    F.append(P)\n",
    "print(\"The fibonacci series of {0} series is {1}\".format(x,F))"
   ]
  },
  {
   "cell_type": "code",
   "execution_count": 2,
   "metadata": {},
   "outputs": [
    {
     "name": "stdout",
     "output_type": "stream",
     "text": [
      "Enter the number that you want to check is a fibonacci number or not?: 14262\n",
      "The number is NOT a Fibonacci number\n"
     ]
    }
   ],
   "source": [
    "# 2.\tPython Program for How to check if a given number is Fibonacci number?\n",
    "x=int(input(\"Enter the number that you want to check is a fibonacci number or not?: \"))\n",
    "y1=5*(x**2)-4 \n",
    "y2 = 5*(x**2)+4\n",
    "\n",
    "import math\n",
    "x1=math.sqrt(y1)\n",
    "x2=math.sqrt(y2)\n",
    "if float(round(x1)) == x1 or float(round(x2)) == x2:\n",
    "    print(\"The number is a Fibonacci number\")\n",
    "else:\n",
    "    print(\"The number is NOT a Fibonacci number\")"
   ]
  },
  {
   "cell_type": "code",
   "execution_count": 3,
   "metadata": {},
   "outputs": [
    {
     "name": "stdout",
     "output_type": "stream",
     "text": [
      "Fib(n) using Binet's Formula with n = 30\n",
      "832040\n"
     ]
    }
   ],
   "source": [
    "# 3.\tPython Program for n\\’th multiple of a number in Fibonacci Series\n",
    "n=int(input(\"Fib(n) using Binet's Formula with n = \"))\n",
    "import math\n",
    "phi= (math.sqrt(5)+1)/2\n",
    "Fib= ((phi**n) - (phi **-n))/math.sqrt(5)\n",
    "print(round(Fib))"
   ]
  },
  {
   "cell_type": "code",
   "execution_count": 4,
   "metadata": {},
   "outputs": [
    {
     "name": "stdout",
     "output_type": "stream",
     "text": [
      "Enter the characters\n",
      "The ascii value of the character is  115  Ascii.\n"
     ]
    }
   ],
   "source": [
    "# 4.\tProgram to print ASCII Value of a character\n",
    "x=str(input(\"Enter the character\"))\n",
    "print(\"The ascii value of the character is \", ord(x) , \" Ascii.\")"
   ]
  },
  {
   "cell_type": "code",
   "execution_count": 5,
   "metadata": {},
   "outputs": [
    {
     "name": "stdout",
     "output_type": "stream",
     "text": [
      "Enter a number: 9\n",
      "Sum of squares is:  285\n"
     ]
    }
   ],
   "source": [
    "# 5.\tPython Program for Sum of squares of first n natural numbers \n",
    "import numpy as np\n",
    "x= int(input(\"Enter a number: \"))\n",
    "s=[]\n",
    "for i in range(1,x+1):\n",
    "    p=i**2\n",
    "    s.append(p)\n",
    "print(\"Sum of squares is: \",np.sum(s))"
   ]
  },
  {
   "cell_type": "code",
   "execution_count": null,
   "metadata": {},
   "outputs": [],
   "source": [
    "# 6.\tPython Program for cube sum of first n natural numbers\n",
    "import numpy as np\n",
    "x= int(input(\"Enter a number: \"))\n",
    "s=[]\n",
    "for i in range(x):\n",
    "    p=i**3\n",
    "    s.append(p)\n",
    "print(\"Sum of squares is: \",np.sum(s))"
   ]
  },
  {
   "cell_type": "code",
   "execution_count": null,
   "metadata": {},
   "outputs": [],
   "source": [
    "# 7.\tPython Program to find sum of array\n",
    "import array as arr\n",
    "x= arr.array('i',[1,2,3,4,5,6,7])\n",
    "print(np.sum(x))"
   ]
  },
  {
   "cell_type": "code",
   "execution_count": null,
   "metadata": {},
   "outputs": [],
   "source": [
    "# 8.\tPython Program to find largest element in an array\n",
    "import array as arr\n",
    "x= arr.array('i',[1,2,3,4,5,6,7,324])\n",
    "max(x)"
   ]
  },
  {
   "cell_type": "code",
   "execution_count": null,
   "metadata": {},
   "outputs": [],
   "source": [
    "# 9.\tPython Program for array rotation\n",
    "import array as arr\n",
    "x= arr.array('i',[1,2,3,4,5,6,7,324])\n",
    "x[-1::-1]"
   ]
  },
  {
   "cell_type": "code",
   "execution_count": null,
   "metadata": {},
   "outputs": [],
   "source": [
    "# 10.\tPython Program for Reversal algorithm for array rotation\n",
    "import array as arr\n",
    "x= arr.array('i',[1,2,3,4,5,6,7,324])\n",
    "x[0:len(x)-2:1]\n"
   ]
  },
  {
   "cell_type": "code",
   "execution_count": null,
   "metadata": {},
   "outputs": [],
   "source": [
    "# 11.\tPython Program to Split the array and add the first part to the end\n",
    "import array as arr\n",
    "x= arr.array('i',[1,2,3,4,5,6,7,324])\n",
    "p=arr.array('i',[])\n",
    "for i in x[2:len(x)]:\n",
    "    p.append(i)\n",
    "    x.remove(i)\n",
    "p.extend(x)\n",
    "print(p)"
   ]
  },
  {
   "cell_type": "code",
   "execution_count": null,
   "metadata": {},
   "outputs": [],
   "source": []
  }
 ],
 "metadata": {
  "kernelspec": {
   "display_name": "Python 3",
   "language": "python",
   "name": "python3"
  },
  "language_info": {
   "codemirror_mode": {
    "name": "ipython",
    "version": 3
   },
   "file_extension": ".py",
   "mimetype": "text/x-python",
   "name": "python",
   "nbconvert_exporter": "python",
   "pygments_lexer": "ipython3",
   "version": "3.8.5"
  }
 },
 "nbformat": 4,
 "nbformat_minor": 4
}

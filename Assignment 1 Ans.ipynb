{
 "cells": [
  {
   "cell_type": "code",
   "execution_count": 5,
   "metadata": {},
   "outputs": [],
   "source": [
    "#1.\tWrite a Python program to find those numbers which are divisible by 7 and multiple of 5, between 1500 and 2700 (both included).\n",
    "divi5,divi7=[],[]\n",
    "for i in range(1500,2701):\n",
    "    if i % 5 == 0:\n",
    "        divi5.append(i)\n",
    "    elif i%7 == 0:\n",
    "        divi7.append(i)"
   ]
  },
  {
   "cell_type": "code",
   "execution_count": 10,
   "metadata": {},
   "outputs": [
    {
     "name": "stdout",
     "output_type": "stream",
     "text": [
      "Enter 1st number1\n",
      "Enter 2nd number2\n",
      "3\n"
     ]
    }
   ],
   "source": [
    "# 2.\tPython program to add two numbers\n",
    "x = int(input(\"Enter 1st number\"))\n",
    "y = int(input(\"Enter 2nd number\"))\n",
    "def add(a,b):\n",
    "    c= a+b\n",
    "    print(c)\n",
    "add(x,y)"
   ]
  },
  {
   "cell_type": "code",
   "execution_count": 1,
   "metadata": {},
   "outputs": [
    {
     "name": "stdout",
     "output_type": "stream",
     "text": [
      "Enter 1st number2\n",
      "Enter 2nd number3\n",
      "3  is greater than  2\n"
     ]
    }
   ],
   "source": [
    "# 3.\tMaximum of two numbers in Python\n",
    "x= int(input(\"Enter 1st number\"))\n",
    "y = int(input(\"Enter 2nd number\"))\n",
    "if x > y:\n",
    "    print(x, \" is greater than \",y)\n",
    "else:\n",
    "    print(y, \" is greater than \",x)"
   ]
  },
  {
   "cell_type": "code",
   "execution_count": 22,
   "metadata": {},
   "outputs": [
    {
     "name": "stdout",
     "output_type": "stream",
     "text": [
      "Enter the number for factorial5\n",
      "120\n"
     ]
    }
   ],
   "source": [
    "# 4.\tPython Program for factorial of a number\n",
    "x = int(input(\"Enter the number for factorial\"))\n",
    "factorial =1\n",
    "if x < 0:\n",
    "    print(\"Factorial of the number is not possible\")\n",
    "elif 0 < x <1:\n",
    "    print(\"The factorial is 1\")\n",
    "else:\n",
    "    for i in range(1,x+1):\n",
    "        factorial=factorial*i\n",
    "print(factorial)"
   ]
  },
  {
   "cell_type": "code",
   "execution_count": 26,
   "metadata": {},
   "outputs": [
    {
     "name": "stdout",
     "output_type": "stream",
     "text": [
      "Enter the amount initially borrowed from the bank: 10000\n",
      "Rate of interest: 3\n",
      "Enter time in yrs duration to pay the borrowed amount: 2\n",
      "The total amount to be returnd to the bank is:  10600.0 having S.I:  600.0\n"
     ]
    }
   ],
   "source": [
    "# 5.\tPython Program for simple interest\n",
    "P = float(input(\"Enter the amount initially borrowed from the bank: \"))\n",
    "R = float(input(\"Rate of interest: \"))\n",
    "T = float(input(\"Enter time in yrs duration to pay the borrowed amount: \"))\n",
    "S_I = P*R*T/100\n",
    "\n",
    "amount = P + S_I\n",
    "print(\"The total amount to be returnd to the bank is: \",amount, \"having S.I: \", S_I)"
   ]
  },
  {
   "cell_type": "code",
   "execution_count": 31,
   "metadata": {},
   "outputs": [
    {
     "name": "stdout",
     "output_type": "stream",
     "text": [
      "Enter the amount initially borrowed from the bank: 10000\n",
      "Rate of interest: 2\n",
      "Enter time in yrs duration to pay the borrowed amount: 1\n",
      "The amount after compound intereset will be:  63586.0\n"
     ]
    }
   ],
   "source": [
    "# 6.\tPython Program for compound interest\n",
    "# interest is compunded monthly\n",
    "P = float(input(\"Enter the amount initially borrowed from the bank: \"))\n",
    "R = float(input(\"Rate of interest: \"))\n",
    "T = int (input(\"Enter time in yrs duration to pay the borrowed amount: \"))\n",
    "n=12\n",
    "A = P *(1+ R/n)**(n*T)\n",
    "print(\"The amount after compound intereset will be: \", round(A,2))"
   ]
  },
  {
   "cell_type": "code",
   "execution_count": 40,
   "metadata": {},
   "outputs": [
    {
     "name": "stdout",
     "output_type": "stream",
     "text": [
      "Enter a number: 407\n",
      "407  is an armstrong number\n"
     ]
    }
   ],
   "source": [
    "#7.\tPython Program to check Armstrong Number\n",
    "x = int(input(\"Enter a number: \"))\n",
    "x= str(x)\n",
    "p=0\n",
    "for i in range(len(x)):\n",
    "    p = p+int(x[i])**len(x)\n",
    "if p == int(x):\n",
    "    print(x,\" is an armstrong number\")\n",
    "else:\n",
    "    print(x,\" is not an armstrong number\")"
   ]
  },
  {
   "cell_type": "code",
   "execution_count": 32,
   "metadata": {},
   "outputs": [],
   "source": [
    "# 8.\tPython Program for Program to find area of a circle\n",
    "from math import pi\n",
    "r= float(input(\"Enter the radius in cms: \"))\n",
    "Area = pi*r**2\n",
    "print(\"The Area of the circle is: \", Area)"
   ]
  },
  {
   "cell_type": "code",
   "execution_count": 41,
   "metadata": {
    "scrolled": false
   },
   "outputs": [
    {
     "name": "stdout",
     "output_type": "stream",
     "text": [
      "Enter a lower number: 1\n",
      "Enter a upper number: 100\n",
      "2\n",
      "3\n",
      "5\n",
      "7\n",
      "11\n",
      "13\n",
      "17\n",
      "19\n",
      "23\n",
      "29\n",
      "31\n",
      "37\n",
      "41\n",
      "43\n",
      "47\n",
      "53\n",
      "59\n",
      "61\n",
      "67\n",
      "71\n",
      "73\n",
      "79\n",
      "83\n",
      "89\n",
      "97\n"
     ]
    }
   ],
   "source": [
    "# 9.\tPython program to print all Prime numbers in an Interval\n",
    "lower = int(input('Enter a lower number: '))\n",
    "upper = int(input(\"Enter a upper number: \"))\n",
    "for i in range(lower , upper+1):\n",
    "    if i >1:\n",
    "        for m in range(2,i):\n",
    "            if i % m==0:\n",
    "                break\n",
    "        else:\n",
    "            print(i)"
   ]
  },
  {
   "cell_type": "code",
   "execution_count": 48,
   "metadata": {},
   "outputs": [
    {
     "name": "stdout",
     "output_type": "stream",
     "text": [
      "Enter a number: 908\n",
      "908 Is not prime number\n"
     ]
    }
   ],
   "source": [
    "# 10.\tPython program to check whether a number is Prime or not\n",
    "num = int(input(\"Enter a number: \"))\n",
    "for i in range(2,num):\n",
    "    if num%i==0:\n",
    "        print(num, \"Is not prime number\")\n",
    "        break\n",
    "else:\n",
    "    print(num)"
   ]
  },
  {
   "cell_type": "code",
   "execution_count": 39,
   "metadata": {},
   "outputs": [
    {
     "name": "stdout",
     "output_type": "stream",
     "text": [
      "Enter a number: 1634\n",
      "1634  is an armstrong number\n"
     ]
    }
   ],
   "source": []
  },
  {
   "cell_type": "code",
   "execution_count": 25,
   "metadata": {},
   "outputs": [
    {
     "data": {
      "text/plain": [
       "'143'"
      ]
     },
     "execution_count": 25,
     "metadata": {},
     "output_type": "execute_result"
    }
   ],
   "source": []
  },
  {
   "cell_type": "code",
   "execution_count": null,
   "metadata": {},
   "outputs": [],
   "source": []
  }
 ],
 "metadata": {
  "kernelspec": {
   "display_name": "Python 3",
   "language": "python",
   "name": "python3"
  },
  "language_info": {
   "codemirror_mode": {
    "name": "ipython",
    "version": 3
   },
   "file_extension": ".py",
   "mimetype": "text/x-python",
   "name": "python",
   "nbconvert_exporter": "python",
   "pygments_lexer": "ipython3",
   "version": "3.8.5"
  }
 },
 "nbformat": 4,
 "nbformat_minor": 4
}

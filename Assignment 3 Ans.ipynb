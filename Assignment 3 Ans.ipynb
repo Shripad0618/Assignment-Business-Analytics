{
 "cells": [
  {
   "cell_type": "code",
   "execution_count": 1,
   "metadata": {},
   "outputs": [
    {
     "name": "stdout",
     "output_type": "stream",
     "text": [
      "Reminder is:  720.0\n"
     ]
    }
   ],
   "source": [
    "# 1.\tPython Program for Find reminder of array multiplication divided by n\n",
    "import array as arr\n",
    "x=arr.array('i',(1,2,3,4,5,6,7))\n",
    "p=1\n",
    "for i in range(len(x)):\n",
    "    p=x[i]*p\n",
    "print(\"Reminder is: \", p/len(x))"
   ]
  },
  {
   "cell_type": "code",
   "execution_count": 24,
   "metadata": {},
   "outputs": [
    {
     "name": "stdout",
     "output_type": "stream",
     "text": [
      "Monotonic array for position x[0]\n",
      "Monotonic array for position x[1]\n",
      "Monotonic array for position x[2]\n",
      "Monotonic array for position x[3]\n",
      "Not a monotonic array for position x[4]\n"
     ]
    }
   ],
   "source": [
    "# 2.\tPython Program to check if given array is Monotonic\n",
    "x= arr.array('i',(1,2,3,4,9,6,7,8))\n",
    "i=iter(x)\n",
    "next(i)\n",
    "try:\n",
    "    for p in range(len(x)):\n",
    "        if x[p]<=next(i):\n",
    "            print(\"Monotonic array for position x[{0}]\".format(p))\n",
    "            continue\n",
    "        else:\n",
    "            print(\"Not a monotonic array for position x[{0}]\".format(p))\n",
    "            break\n",
    "    else:\n",
    "        print(\"Mono\")\n",
    "except:\n",
    "    print(\"Hence all the arrays are monotonic. This is the end!! \")"
   ]
  },
  {
   "cell_type": "code",
   "execution_count": 46,
   "metadata": {},
   "outputs": [],
   "source": [
    "# 3.\tPython program to interchange first and last elements in a list\n",
    "x= [1,2,3,4,5,6,7,8]\n",
    "def interchange(x):\n",
    "    print(\"Before intechange: \",x)\n",
    "    x[0],x[-1]=x[-1],x[0]\n",
    "    print(\"After interchange: \",x)"
   ]
  },
  {
   "cell_type": "code",
   "execution_count": 47,
   "metadata": {},
   "outputs": [
    {
     "name": "stdout",
     "output_type": "stream",
     "text": [
      "Before intechange:  [1, 2, 3, 4, 5, 6, 7, 8]\n",
      "After interchange:  [8, 2, 3, 4, 5, 6, 7, 1]\n"
     ]
    }
   ],
   "source": [
    "interchange(x)"
   ]
  },
  {
   "cell_type": "code",
   "execution_count": 49,
   "metadata": {},
   "outputs": [],
   "source": [
    "# 5.\twrite a program to find length of list\n",
    "x= [1,2,3,4,5,6,7,8]\n",
    "def length(x):\n",
    "    print(len(x))"
   ]
  },
  {
   "cell_type": "code",
   "execution_count": 51,
   "metadata": {},
   "outputs": [
    {
     "name": "stdout",
     "output_type": "stream",
     "text": [
      "Enter a number: 7\n",
      "True\n"
     ]
    }
   ],
   "source": [
    "# 6.\twrite a program to check if element exists in list\n",
    "x= [1,2,3,4,5,6,7,8]\n",
    "if int(input(\"Enter a number: \")) in x:\n",
    "    print(True)\n",
    "else:\n",
    "    print(False)"
   ]
  },
  {
   "cell_type": "code",
   "execution_count": 54,
   "metadata": {},
   "outputs": [
    {
     "name": "stdout",
     "output_type": "stream",
     "text": [
      "[1, 2, 3, 4, 5, 6, 7, 8]\n",
      "[]\n"
     ]
    }
   ],
   "source": [
    "# 7.\twrite a program to clear a list in Python\n",
    "\n",
    "x= [1,2,3,4,5,6,7,8]\n",
    "print(x)\n",
    "x.clear()\n",
    "print(x)"
   ]
  },
  {
   "cell_type": "code",
   "execution_count": 57,
   "metadata": {},
   "outputs": [
    {
     "data": {
      "text/plain": [
       "[8, 7, 6, 5, 4, 3, 2, 1]"
      ]
     },
     "execution_count": 57,
     "metadata": {},
     "output_type": "execute_result"
    }
   ],
   "source": [
    "# 8.\twrite a program to Reversing a List\n",
    "x= [1,2,3,4,5,6,7,8]\n",
    "x=x[::-1]\n",
    "x"
   ]
  },
  {
   "cell_type": "code",
   "execution_count": 59,
   "metadata": {},
   "outputs": [
    {
     "data": {
      "text/plain": [
       "36"
      ]
     },
     "execution_count": 59,
     "metadata": {},
     "output_type": "execute_result"
    }
   ],
   "source": [
    "# 9.\twrite a program to find sum of elements in list\n",
    "x= [1,2,3,4,5,6,7,8]\n",
    "sum(x)"
   ]
  },
  {
   "cell_type": "code",
   "execution_count": 71,
   "metadata": {},
   "outputs": [
    {
     "name": "stdout",
     "output_type": "stream",
     "text": [
      "40320\n"
     ]
    }
   ],
   "source": [
    "# 10.\twrite a program to Multiply all numbers in the list\n",
    "import functools\n",
    "\n",
    "print(functools.reduce(lambda a,b : a*b, x))"
   ]
  },
  {
   "cell_type": "code",
   "execution_count": null,
   "metadata": {},
   "outputs": [],
   "source": []
  }
 ],
 "metadata": {
  "kernelspec": {
   "display_name": "Python 3",
   "language": "python",
   "name": "python3"
  },
  "language_info": {
   "codemirror_mode": {
    "name": "ipython",
    "version": 3
   },
   "file_extension": ".py",
   "mimetype": "text/x-python",
   "name": "python",
   "nbconvert_exporter": "python",
   "pygments_lexer": "ipython3",
   "version": "3.8.5"
  }
 },
 "nbformat": 4,
 "nbformat_minor": 4
}
